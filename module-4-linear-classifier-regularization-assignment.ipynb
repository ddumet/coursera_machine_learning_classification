{
 "cells": [
  {
   "cell_type": "markdown",
   "metadata": {},
   "source": [
    "# Logistic Regression with L2 regularization\n",
    "\n",
    "The goal of this second notebook is to implement your own logistic regression classifier with L2 regularization. You will do the following:\n",
    "\n",
    " * Extract features from Amazon product reviews.\n",
    " * Convert a DataFrame into a NumPy array.\n",
    " * Write a function to compute the derivative of log likelihood function with an L2 penalty with respect to a single coefficient.\n",
    " * Implement gradient ascent with an L2 penalty.\n",
    " * Empirically explore how the L2 penalty can ameliorate overfitting."
   ]
  },
  {
   "cell_type": "code",
   "execution_count": 1,
   "metadata": {
    "collapsed": true
   },
   "outputs": [],
   "source": [
    "import pandas as pd\n",
    "import numpy as np"
   ]
  },
  {
   "cell_type": "code",
   "execution_count": 2,
   "metadata": {
    "collapsed": true
   },
   "outputs": [],
   "source": [
    "import json\n",
    "import string\n",
    "from math import sqrt\n",
    "import ast"
   ]
  },
  {
   "cell_type": "code",
   "execution_count": 3,
   "metadata": {
    "collapsed": true
   },
   "outputs": [],
   "source": [
    "import matplotlib.pyplot as plt\n",
    "%matplotlib inline"
   ]
  },
  {
   "cell_type": "code",
   "execution_count": 4,
   "metadata": {
    "collapsed": false
   },
   "outputs": [],
   "source": [
    "from __future__ import division"
   ]
  },
  {
   "cell_type": "markdown",
   "metadata": {},
   "source": [
    "## Load and process review dataset"
   ]
  },
  {
   "cell_type": "markdown",
   "metadata": {},
   "source": [
    "For this assignment, we will use the same subset of the Amazon product review dataset that we used in Module 3 assignment. The subset was chosen to contain similar numbers of positive and negative reviews, as the original dataset consisted of mostly positive reviews."
   ]
  },
  {
   "cell_type": "code",
   "execution_count": 5,
   "metadata": {
    "collapsed": false
   },
   "outputs": [],
   "source": [
    "products = pd.read_csv(\"./data/amazon_baby_subset.csv\", index_col=False)"
   ]
  },
  {
   "cell_type": "markdown",
   "metadata": {},
   "source": [
    "Just like we did previously, we will work with a hand-curated list of important words extracted from the review data. We will also perform 2 simple data transformations:\n",
    "\n",
    "1. Remove punctuation using [Python's built-in](https://docs.python.org/2/library/string.html) string functionality.\n",
    "2. Compute word counts (only for the **important_words**)\n",
    "\n",
    "But first we replace NaN reviews with \" \" to avoid errors when processing texts later on."
   ]
  },
  {
   "cell_type": "code",
   "execution_count": 6,
   "metadata": {
    "collapsed": true
   },
   "outputs": [],
   "source": [
    "products[\"review\"].fillna(\" \",inplace=True)"
   ]
  },
  {
   "cell_type": "markdown",
   "metadata": {},
   "source": [
    "### We start with Step 1 which can be done as follows:"
   ]
  },
  {
   "cell_type": "code",
   "execution_count": 7,
   "metadata": {
    "collapsed": false
   },
   "outputs": [],
   "source": [
    "def remove_punctuation(text):\n",
    "    # str.maketrans create a translation table\n",
    "    # The translation table is built from a dictionary using a comprehension\n",
    "    # this maps every character from string.punctuation to None\n",
    "    translator = str.maketrans({key: None for key in string.punctuation})\n",
    "    return text.translate(translator)\n",
    "\n",
    "products[\"review_clean\"] = products[\"review\"].apply(remove_punctuation)"
   ]
  },
  {
   "cell_type": "markdown",
   "metadata": {},
   "source": [
    "### Now we proceed with Step 2.\n",
    "For each word in **important_words**, we compute a count for the number of times the word occurs in the review. We will store this count in a separate column (one for each word). The result of this feature processing is a single column for each word in **important_words** which keeps a count of the number of times the respective word occurs in the review text.\n",
    "\n",
    "**Note:** There are several ways of doing this. In this assignment, we use the built-in count function for Python lists. Each review string is first split into individual words and the number of occurances of a given word is counted.\n",
    "\n",
    "Let's load these words from this JSON file first:"
   ]
  },
  {
   "cell_type": "code",
   "execution_count": 8,
   "metadata": {
    "collapsed": true
   },
   "outputs": [],
   "source": [
    "with open(\"./data/important_words.json\", \"r\") as f:\n",
    "    important_words = json.load(f)\n",
    "important_words = [str(s) for s in important_words]"
   ]
  },
  {
   "cell_type": "code",
   "execution_count": 9,
   "metadata": {
    "collapsed": false
   },
   "outputs": [
    {
     "name": "stdout",
     "output_type": "stream",
     "text": [
      "Wall time: 1min 55s\n"
     ]
    }
   ],
   "source": [
    "%%time\n",
    "for word in important_words:\n",
    "    products[word] = products[\"review_clean\"].apply(lambda s : s.split().count(word))"
   ]
  },
  {
   "cell_type": "markdown",
   "metadata": {
    "collapsed": false
   },
   "source": [
    "Now, let us take a look at what the dataset looks like (**Note:** This may take a few minutes)."
   ]
  },
  {
   "cell_type": "code",
   "execution_count": 10,
   "metadata": {
    "collapsed": false
   },
   "outputs": [
    {
     "data": {
      "text/html": [
       "<div>\n",
       "<table border=\"1\" class=\"dataframe\">\n",
       "  <thead>\n",
       "    <tr style=\"text-align: right;\">\n",
       "      <th></th>\n",
       "      <th>name</th>\n",
       "      <th>review</th>\n",
       "      <th>rating</th>\n",
       "      <th>sentiment</th>\n",
       "      <th>review_clean</th>\n",
       "      <th>baby</th>\n",
       "      <th>one</th>\n",
       "      <th>great</th>\n",
       "      <th>love</th>\n",
       "      <th>use</th>\n",
       "      <th>...</th>\n",
       "      <th>seems</th>\n",
       "      <th>picture</th>\n",
       "      <th>completely</th>\n",
       "      <th>wish</th>\n",
       "      <th>buying</th>\n",
       "      <th>babies</th>\n",
       "      <th>won</th>\n",
       "      <th>tub</th>\n",
       "      <th>almost</th>\n",
       "      <th>either</th>\n",
       "    </tr>\n",
       "  </thead>\n",
       "  <tbody>\n",
       "    <tr>\n",
       "      <th>0</th>\n",
       "      <td>Stop Pacifier Sucking without tears with Thumb...</td>\n",
       "      <td>All of my kids have cried non-stop when I trie...</td>\n",
       "      <td>5</td>\n",
       "      <td>1</td>\n",
       "      <td>All of my kids have cried nonstop when I tried...</td>\n",
       "      <td>0</td>\n",
       "      <td>0</td>\n",
       "      <td>1</td>\n",
       "      <td>0</td>\n",
       "      <td>0</td>\n",
       "      <td>...</td>\n",
       "      <td>0</td>\n",
       "      <td>0</td>\n",
       "      <td>0</td>\n",
       "      <td>0</td>\n",
       "      <td>0</td>\n",
       "      <td>0</td>\n",
       "      <td>0</td>\n",
       "      <td>0</td>\n",
       "      <td>0</td>\n",
       "      <td>0</td>\n",
       "    </tr>\n",
       "    <tr>\n",
       "      <th>1</th>\n",
       "      <td>Nature's Lullabies Second Year Sticker Calendar</td>\n",
       "      <td>We wanted to get something to keep track of ou...</td>\n",
       "      <td>5</td>\n",
       "      <td>1</td>\n",
       "      <td>We wanted to get something to keep track of ou...</td>\n",
       "      <td>0</td>\n",
       "      <td>0</td>\n",
       "      <td>0</td>\n",
       "      <td>0</td>\n",
       "      <td>0</td>\n",
       "      <td>...</td>\n",
       "      <td>0</td>\n",
       "      <td>0</td>\n",
       "      <td>0</td>\n",
       "      <td>0</td>\n",
       "      <td>0</td>\n",
       "      <td>0</td>\n",
       "      <td>0</td>\n",
       "      <td>0</td>\n",
       "      <td>0</td>\n",
       "      <td>0</td>\n",
       "    </tr>\n",
       "  </tbody>\n",
       "</table>\n",
       "<p>2 rows × 198 columns</p>\n",
       "</div>"
      ],
      "text/plain": [
       "                                                name  \\\n",
       "0  Stop Pacifier Sucking without tears with Thumb...   \n",
       "1    Nature's Lullabies Second Year Sticker Calendar   \n",
       "\n",
       "                                              review  rating  sentiment  \\\n",
       "0  All of my kids have cried non-stop when I trie...       5          1   \n",
       "1  We wanted to get something to keep track of ou...       5          1   \n",
       "\n",
       "                                        review_clean  baby  one  great  love  \\\n",
       "0  All of my kids have cried nonstop when I tried...     0    0      1     0   \n",
       "1  We wanted to get something to keep track of ou...     0    0      0     0   \n",
       "\n",
       "   use   ...    seems  picture  completely  wish  buying  babies  won  tub  \\\n",
       "0    0   ...        0        0           0     0       0       0    0    0   \n",
       "1    0   ...        0        0           0     0       0       0    0    0   \n",
       "\n",
       "   almost  either  \n",
       "0       0       0  \n",
       "1       0       0  \n",
       "\n",
       "[2 rows x 198 columns]"
      ]
     },
     "execution_count": 10,
     "metadata": {},
     "output_type": "execute_result"
    }
   ],
   "source": [
    "products.head(2)"
   ]
  },
  {
   "cell_type": "markdown",
   "metadata": {},
   "source": [
    "## Train-Validation split\n",
    "\n",
    "We split the data into a train-validation split with 80% of the data in the training set and 20% of the data in the validation set. We use `seed=2` so that everyone gets the same result.\n",
    "\n",
    "**Note:** In previous assignments, we have called this a **train-test split**. However, the portion of data that we don't train on will be used to help **select model parameters**. Thus, this portion of data should be called a **validation set**. Recall that examining performance of various potential models (i.e. models with different parameters) should be on a validation set, while evaluation of selected model should always be on a test set."
   ]
  },
  {
   "cell_type": "markdown",
   "metadata": {},
   "source": [
    "### Load training and test sets\n",
    "Load the **training set** from file provided by the course."
   ]
  },
  {
   "cell_type": "code",
   "execution_count": 11,
   "metadata": {
    "collapsed": false
   },
   "outputs": [],
   "source": [
    "f = open(\"./data/module-4-assignment-train-idx.json\")\n",
    "train_data_index = f.readline()\n",
    "f.close()\n",
    "\n",
    "# Transform the read string into a list\n",
    "train_data_index = ast.literal_eval(train_data_index)\n",
    "\n",
    "train_data = products.loc[train_data_index]"
   ]
  },
  {
   "cell_type": "markdown",
   "metadata": {},
   "source": [
    "Load the **validation set** from file provided by the course."
   ]
  },
  {
   "cell_type": "code",
   "execution_count": 12,
   "metadata": {
    "collapsed": true
   },
   "outputs": [],
   "source": [
    "f = open(\"./data/module-4-assignment-validation-idx.json\")\n",
    "validation_data_index = f.readline()\n",
    "f.close()\n",
    "\n",
    "# Transform the read string into a list\n",
    "validation_data_index = ast.literal_eval(validation_data_index)\n",
    "\n",
    "validation_data = products.loc[validation_data_index]"
   ]
  },
  {
   "cell_type": "markdown",
   "metadata": {},
   "source": [
    "## Convert DataFrame to NumPy array"
   ]
  },
  {
   "cell_type": "markdown",
   "metadata": {
    "collapsed": true
   },
   "source": [
    "Just like in the second assignment of the previous module, we provide you with a function that extracts columns from a DataFrame and converts them into a NumPy array. Two arrays are returned: one representing features and another representing class labels. \n",
    "\n",
    "**Note:** The feature matrix includes an additional column 'intercept' filled with 1's to take account of the intercept term."
   ]
  },
  {
   "cell_type": "code",
   "execution_count": 13,
   "metadata": {
    "collapsed": true
   },
   "outputs": [],
   "source": [
    "def get_numpy_data(dataframe, features, label):\n",
    "    \n",
    "    # transform dataframe[features] into numpy array\n",
    "    feature_matrix = dataframe.as_matrix(features)\n",
    "    \n",
    "    # add feature x0 (i.e. a ones column vector)!\n",
    "    feature_matrix = np.insert(feature_matrix,0,np.ones([1,feature_matrix.shape[0]]),axis=1)\n",
    "    \n",
    "    label_array = dataframe.as_matrix(label)\n",
    "    \n",
    "    return(feature_matrix, label_array)"
   ]
  },
  {
   "cell_type": "markdown",
   "metadata": {},
   "source": [
    "We convert both the training and validation sets into NumPy arrays.\n",
    "\n",
    "**Warning**: This may take a few minutes."
   ]
  },
  {
   "cell_type": "code",
   "execution_count": 14,
   "metadata": {
    "collapsed": false
   },
   "outputs": [],
   "source": [
    "feature_matrix_train, sentiment_train = get_numpy_data(train_data, important_words, [\"sentiment\"])\n",
    "feature_matrix_valid, sentiment_valid = get_numpy_data(validation_data, important_words, [\"sentiment\"]) "
   ]
  },
  {
   "cell_type": "markdown",
   "metadata": {},
   "source": [
    "**Are you running this notebook on an Amazon EC2 t2.micro instance?** (If you are using your own machine, please skip this section)\n",
    "\n",
    "It has been reported that t2.micro instances do not provide sufficient power to complete the conversion in acceptable amount of time. For interest of time, please refrain from running `get_numpy_data` function. Instead, download the [binary file](https://s3.amazonaws.com/static.dato.com/files/coursera/course-3/numpy-arrays/module-4-assignment-numpy-arrays.npz) containing the four NumPy arrays you'll need for the assignment. To load the arrays, run the following commands:\n",
    "```\n",
    "arrays = np.load('module-4-assignment-numpy-arrays.npz')\n",
    "feature_matrix_train, sentiment_train = arrays['feature_matrix_train'], arrays['sentiment_train']\n",
    "feature_matrix_valid, sentiment_valid = arrays['feature_matrix_valid'], arrays['sentiment_valid']\n",
    "```"
   ]
  },
  {
   "cell_type": "markdown",
   "metadata": {},
   "source": [
    "## Building on logistic regression with no L2 penalty assignment\n",
    "\n",
    "Let us now build on Module 3 assignment. Recall from lecture that the link function for logistic regression can be defined as:\n",
    "\n",
    "$$\n",
    "P(y_i = +1 | \\mathbf{x}_i,\\mathbf{w}) = \\frac{1}{1 + \\exp(-\\mathbf{w}^T h(\\mathbf{x}_i))},\n",
    "$$\n",
    "\n",
    "where the feature vector $h(\\mathbf{x}_i)$ is given by the word counts of **important_words** in the review $\\mathbf{x}_i$. \n",
    "\n",
    "We will use the **same code** as in this past assignment to make probability predictions since this part is not affected by the L2 penalty.  (Only the way in which the coefficients are learned is affected by the addition of a regularization term.)"
   ]
  },
  {
   "cell_type": "code",
   "execution_count": 15,
   "metadata": {
    "collapsed": false
   },
   "outputs": [],
   "source": [
    "def predict_probability(feature_matrix, coefficients):\n",
    "    \n",
    "    scores = np.dot(feature_matrix,np.transpose(coefficients))\n",
    "    \n",
    "    # Compute P(y_i = +1 | x_i, w) using the link function\n",
    "    predictions = 1/(1+np.exp(-scores))\n",
    "    \n",
    "    return predictions.reshape(-1,1)"
   ]
  },
  {
   "cell_type": "markdown",
   "metadata": {},
   "source": [
    "# Adding  L2 penalty"
   ]
  },
  {
   "cell_type": "markdown",
   "metadata": {},
   "source": [
    "Let us now work on extending logistic regression with L2 regularization. As discussed in the lectures, the L2 regularization is particularly useful in preventing overfitting. In this assignment, we will explore L2 regularization in detail.\n",
    "\n",
    "Recall from lecture and the previous assignment that for logistic regression without an L2 penalty, the derivative of the log likelihood function is:\n",
    "$$\n",
    "\\frac{\\partial\\ell}{\\partial w_j} = \\sum_{i=1}^N h_j(\\mathbf{x}_i)\\left(\\mathbf{1}[y_i = +1] - P(y_i = +1 | \\mathbf{x}_i, \\mathbf{w})\\right)\n",
    "$$\n",
    "\n",
    "** Adding L2 penalty to the derivative** \n",
    "\n",
    "It takes only a small modification to add a L2 penalty. All terms indicated in **red** refer to terms that were added due to an **L2 penalty**.\n",
    "\n",
    "* Recall from the lecture that the link function is still the sigmoid:\n",
    "$$\n",
    "P(y_i = +1 | \\mathbf{x}_i,\\mathbf{w}) = \\frac{1}{1 + \\exp(-\\mathbf{w}^T h(\\mathbf{x}_i))},\n",
    "$$\n",
    "* We add the L2 penalty term to the per-coefficient derivative of log likelihood:\n",
    "$$\n",
    "\\frac{\\partial\\ell}{\\partial w_j} = \\sum_{i=1}^N h_j(\\mathbf{x}_i)\\left(\\mathbf{1}[y_i = +1] - P(y_i = +1 | \\mathbf{x}_i, \\mathbf{w})\\right) \\color{red}{-2\\lambda w_j }\n",
    "$$\n",
    "\n",
    "The **per-coefficient derivative for logistic regression with an L2 penalty** is as follows:\n",
    "$$\n",
    "\\frac{\\partial\\ell}{\\partial w_j} = \\sum_{i=1}^N h_j(\\mathbf{x}_i)\\left(\\mathbf{1}[y_i = +1] - P(y_i = +1 | \\mathbf{x}_i, \\mathbf{w})\\right) \\color{red}{-2\\lambda w_j }\n",
    "$$\n",
    "and for the intercept term, we have\n",
    "$$\n",
    "\\frac{\\partial\\ell}{\\partial w_0} = \\sum_{i=1}^N h_0(\\mathbf{x}_i)\\left(\\mathbf{1}[y_i = +1] - P(y_i = +1 | \\mathbf{x}_i, \\mathbf{w})\\right)\n",
    "$$"
   ]
  },
  {
   "cell_type": "markdown",
   "metadata": {},
   "source": [
    "**Note**: As we did in the Regression course, we do not apply the L2 penalty on the intercept. A large intercept does not necessarily indicate overfitting because the intercept is not associated with any particular feature."
   ]
  },
  {
   "cell_type": "markdown",
   "metadata": {},
   "source": [
    "Write a function that computes the derivative of log likelihood with respect to a single coefficient $w_j$. Unlike its counterpart in the last assignment, the function accepts five arguments:\n",
    " * `errors` vector containing $(\\mathbf{1}[y_i = +1] - P(y_i = +1 | \\mathbf{x}_i, \\mathbf{w}))$ for all $i$\n",
    " * `feature` vector containing $h_j(\\mathbf{x}_i)$  for all $i$\n",
    " * `coefficient` containing the current value of coefficient $w_j$.\n",
    " * `l2_penalty` representing the L2 penalty constant $\\lambda$\n",
    " * `feature_is_constant` telling whether the $j$-th feature is constant or not."
   ]
  },
  {
   "cell_type": "code",
   "execution_count": 16,
   "metadata": {
    "collapsed": true
   },
   "outputs": [],
   "source": [
    "def feature_derivative_with_L2(errors, feature, coefficient, l2_penalty, feature_is_constant): \n",
    "    \n",
    "    # When used in compute_log_likelihood_with_L2, feature is [1,n], i.e. row vector\n",
    "    # and errors is a column vector. So we need to do np.dot(feature, errors)\n",
    "    derivative = np.dot(feature, errors)\n",
    "    \n",
    "    # if feature is intercept do nothing\n",
    "    # else add the regularisation term -2*lambda*wj\n",
    "    if not feature_is_constant: \n",
    "        derivative = derivative - 2*l2_penalty*coefficient\n",
    "        \n",
    "    return derivative"
   ]
  },
  {
   "cell_type": "markdown",
   "metadata": {},
   "source": [
    "** Quiz question:** In the code above, was the intercept term regularized?"
   ]
  },
  {
   "cell_type": "markdown",
   "metadata": {},
   "source": [
    "To verify the correctness of the gradient ascent algorithm, we provide a function for computing log likelihood (which we recall from the last assignment was a topic detailed in an advanced optional video, and used here for its numerical stability)."
   ]
  },
  {
   "cell_type": "markdown",
   "metadata": {},
   "source": [
    "$$\\ell\\ell(\\mathbf{w}) = \\sum_{i=1}^N \\Big( (\\mathbf{1}[y_i = +1] - 1)\\mathbf{w}^T h(\\mathbf{x}_i) - \\ln\\left(1 + \\exp(-\\mathbf{w}^T h(\\mathbf{x}_i))\\right) \\Big) \\color{red}{-\\lambda\\|\\mathbf{w}\\|_2^2} $$"
   ]
  },
  {
   "cell_type": "code",
   "execution_count": 17,
   "metadata": {
    "collapsed": false
   },
   "outputs": [],
   "source": [
    "def compute_log_likelihood_with_L2(feature_matrix, sentiment, coefficients, l2_penalty):\n",
    "    indicator = (sentiment==+1).reshape(-1,1)\n",
    "    scores = np.dot(feature_matrix, coefficients).reshape(-1,1)\n",
    "    lp = np.sum((indicator-1)*scores - np.log(1. + np.exp(-scores))) - l2_penalty*np.sum(coefficients[1:]**2)\n",
    "    return lp"
   ]
  },
  {
   "cell_type": "markdown",
   "metadata": {},
   "source": [
    "** Quiz question:** Does the term with L2 regularization increase or decrease $\\ell\\ell(\\mathbf{w})$?"
   ]
  },
  {
   "cell_type": "markdown",
   "metadata": {},
   "source": [
    "The logistic regression function looks almost like the one in the last assignment, with a minor modification to account for the L2 penalty.  Fill in the code below to complete this modification."
   ]
  },
  {
   "cell_type": "code",
   "execution_count": 18,
   "metadata": {
    "collapsed": false
   },
   "outputs": [],
   "source": [
    "def logistic_regression_with_L2(feature_matrix, sentiment, initial_coefficients, step_size, l2_penalty, max_iter):\n",
    "    coefficients = np.array(initial_coefficients) # make sure it's a numpy array\n",
    "    for itr in range(max_iter):\n",
    "        \n",
    "        # Predict P(y_i = +1|x_i,w) using your predict_probability() function\n",
    "        predictions = predict_probability(feature_matrix,coefficients)\n",
    "        \n",
    "        # Compute indicator value for (y_i = +1)\n",
    "        indicator = (sentiment==+1)\n",
    "        \n",
    "        # Compute the errors as indicator - predictions\n",
    "        errors = indicator - predictions\n",
    "        for j in range(len(coefficients)): # loop over each coefficient\n",
    "            is_intercept = (j == 0)\n",
    "            # Recall that feature_matrix[:,j] is the feature column associated with coefficients[j].\n",
    "            # Compute the derivative for coefficients[j]. Save it in a variable called derivative\n",
    "            derivative = feature_derivative_with_L2(errors, feature_matrix[:,j].reshape(1,-1),\n",
    "                                                    coefficients[j], l2_penalty, is_intercept)\n",
    "            \n",
    "            # add the step size times the derivative to the current coefficient\n",
    "            coefficients[j] += step_size*derivative[0][0]\n",
    "        \n",
    "        # Checking whether log likelihood is increasing\n",
    "        if itr <= 15 or (itr <= 100 and itr % 10 == 0) or (itr <= 1000 and itr % 100 == 0) \\\n",
    "        or (itr <= 10000 and itr % 1000 == 0) or itr % 10000 == 0:\n",
    "            lp = compute_log_likelihood_with_L2(feature_matrix, sentiment, coefficients, l2_penalty)\n",
    "            print(\"iteration:\",itr,\"log likelihood of observed labels:\",lp)\n",
    "    return coefficients"
   ]
  },
  {
   "cell_type": "markdown",
   "metadata": {},
   "source": [
    "# Explore effects of L2 regularization\n",
    "\n",
    "Now that we have written up all the pieces needed for regularized logistic regression, let's explore the benefits of using **L2 regularization** in analyzing sentiment for product reviews. **As iterations pass, the log likelihood should increase**.\n",
    "\n",
    "Below, we train models with increasing amounts of regularization, starting with no L2 penalty, which is equivalent to our previous logistic regression implementation."
   ]
  },
  {
   "cell_type": "code",
   "execution_count": 19,
   "metadata": {
    "collapsed": false,
    "scrolled": false
   },
   "outputs": [
    {
     "name": "stdout",
     "output_type": "stream",
     "text": [
      "iteration: 0 log likelihood of observed labels: -29179.391383\n",
      "iteration: 1 log likelihood of observed labels: -29003.7125905\n",
      "iteration: 2 log likelihood of observed labels: -28834.6618729\n",
      "iteration: 3 log likelihood of observed labels: -28671.7078151\n",
      "iteration: 4 log likelihood of observed labels: -28514.430782\n",
      "iteration: 5 log likelihood of observed labels: -28362.4834466\n",
      "iteration: 6 log likelihood of observed labels: -28215.5671312\n",
      "iteration: 7 log likelihood of observed labels: -28073.4174378\n",
      "iteration: 8 log likelihood of observed labels: -27935.795364\n",
      "iteration: 9 log likelihood of observed labels: -27802.4816867\n",
      "iteration: 10 log likelihood of observed labels: -27673.2733148\n",
      "iteration: 11 log likelihood of observed labels: -27547.9808366\n",
      "iteration: 12 log likelihood of observed labels: -27426.4267998\n",
      "iteration: 13 log likelihood of observed labels: -27308.4444473\n",
      "iteration: 14 log likelihood of observed labels: -27193.8767388\n",
      "iteration: 15 log likelihood of observed labels: -27082.5755583\n",
      "iteration: 20 log likelihood of observed labels: -26570.4305994\n",
      "iteration: 30 log likelihood of observed labels: -25725.4874239\n",
      "iteration: 40 log likelihood of observed labels: -25055.5332691\n",
      "iteration: 50 log likelihood of observed labels: -24509.6359003\n",
      "iteration: 60 log likelihood of observed labels: -24054.9790608\n",
      "iteration: 70 log likelihood of observed labels: -23669.5164085\n",
      "iteration: 80 log likelihood of observed labels: -23337.8916763\n",
      "iteration: 90 log likelihood of observed labels: -23049.0706602\n",
      "iteration: 100 log likelihood of observed labels: -22794.9097492\n",
      "iteration: 200 log likelihood of observed labels: -21283.2952735\n",
      "iteration: 300 log likelihood of observed labels: -20570.9748547\n",
      "iteration: 400 log likelihood of observed labels: -20152.2146694\n",
      "iteration: 500 log likelihood of observed labels: -19876.6233341\n"
     ]
    }
   ],
   "source": [
    "# run with L2 = 0\n",
    "coefficients_0_penalty = logistic_regression_with_L2(feature_matrix_train, sentiment_train,\n",
    "                                                     initial_coefficients=np.zeros(194),\n",
    "                                                     step_size=5e-6, l2_penalty=0, max_iter=501)"
   ]
  },
  {
   "cell_type": "code",
   "execution_count": 20,
   "metadata": {
    "collapsed": false
   },
   "outputs": [
    {
     "name": "stdout",
     "output_type": "stream",
     "text": [
      "iteration: 0 log likelihood of observed labels: -29179.3950818\n",
      "iteration: 1 log likelihood of observed labels: -29003.7341718\n",
      "iteration: 2 log likelihood of observed labels: -28834.7144186\n",
      "iteration: 3 log likelihood of observed labels: -28671.8034507\n",
      "iteration: 4 log likelihood of observed labels: -28514.5807796\n",
      "iteration: 5 log likelihood of observed labels: -28362.6983032\n",
      "iteration: 6 log likelihood of observed labels: -28215.8566326\n",
      "iteration: 7 log likelihood of observed labels: -28073.7907139\n",
      "iteration: 8 log likelihood of observed labels: -27936.2609376\n",
      "iteration: 9 log likelihood of observed labels: -27803.0475181\n",
      "iteration: 10 log likelihood of observed labels: -27673.9468421\n",
      "iteration: 11 log likelihood of observed labels: -27548.7690133\n",
      "iteration: 12 log likelihood of observed labels: -27427.3361296\n",
      "iteration: 13 log likelihood of observed labels: -27309.4810157\n",
      "iteration: 14 log likelihood of observed labels: -27195.0462425\n",
      "iteration: 15 log likelihood of observed labels: -27083.8833326\n",
      "iteration: 20 log likelihood of observed labels: -26572.4987439\n",
      "iteration: 30 log likelihood of observed labels: -25729.3260415\n",
      "iteration: 40 log likelihood of observed labels: -25061.342458\n",
      "iteration: 50 log likelihood of observed labels: -24517.5209198\n",
      "iteration: 60 log likelihood of observed labels: -24064.9909394\n",
      "iteration: 70 log likelihood of observed labels: -23681.6737367\n",
      "iteration: 80 log likelihood of observed labels: -23352.1929874\n",
      "iteration: 90 log likelihood of observed labels: -23065.5018017\n",
      "iteration: 100 log likelihood of observed labels: -22813.4484458\n",
      "iteration: 200 log likelihood of observed labels: -21321.1416479\n",
      "iteration: 300 log likelihood of observed labels: -20624.9863444\n",
      "iteration: 400 log likelihood of observed labels: -20219.9204884\n",
      "iteration: 500 log likelihood of observed labels: -19956.1134178\n"
     ]
    }
   ],
   "source": [
    "# run with L2 = 4\n",
    "coefficients_4_penalty = logistic_regression_with_L2(feature_matrix_train, sentiment_train,\n",
    "                                                      initial_coefficients=np.zeros(194),\n",
    "                                                      step_size=5e-6, l2_penalty=4, max_iter=501)"
   ]
  },
  {
   "cell_type": "code",
   "execution_count": 21,
   "metadata": {
    "collapsed": false
   },
   "outputs": [
    {
     "name": "stdout",
     "output_type": "stream",
     "text": [
      "iteration: 0 log likelihood of observed labels: -29179.4006298\n",
      "iteration: 1 log likelihood of observed labels: -29003.7665416\n",
      "iteration: 2 log likelihood of observed labels: -28834.7932265\n",
      "iteration: 3 log likelihood of observed labels: -28671.9468753\n",
      "iteration: 4 log likelihood of observed labels: -28514.8057159\n",
      "iteration: 5 log likelihood of observed labels: -28363.0204808\n",
      "iteration: 6 log likelihood of observed labels: -28216.2907119\n",
      "iteration: 7 log likelihood of observed labels: -28074.3503689\n",
      "iteration: 8 log likelihood of observed labels: -27936.9589297\n",
      "iteration: 9 log likelihood of observed labels: -27803.8957627\n",
      "iteration: 10 log likelihood of observed labels: -27674.9564701\n",
      "iteration: 11 log likelihood of observed labels: -27549.9504271\n",
      "iteration: 12 log likelihood of observed labels: -27428.6990555\n",
      "iteration: 13 log likelihood of observed labels: -27311.0345514\n",
      "iteration: 14 log likelihood of observed labels: -27196.7989016\n",
      "iteration: 15 log likelihood of observed labels: -27085.8430853\n",
      "iteration: 20 log likelihood of observed labels: -26575.5969751\n",
      "iteration: 30 log likelihood of observed labels: -25735.0730461\n",
      "iteration: 40 log likelihood of observed labels: -25070.0344731\n",
      "iteration: 50 log likelihood of observed labels: -24529.3118803\n",
      "iteration: 60 log likelihood of observed labels: -24079.9534957\n",
      "iteration: 70 log likelihood of observed labels: -23699.8319919\n",
      "iteration: 80 log likelihood of observed labels: -23373.5410875\n",
      "iteration: 90 log likelihood of observed labels: -23090.0150005\n",
      "iteration: 100 log likelihood of observed labels: -22841.0899514\n",
      "iteration: 200 log likelihood of observed labels: -21377.2559533\n",
      "iteration: 300 log likelihood of observed labels: -20704.6399543\n",
      "iteration: 400 log likelihood of observed labels: -20319.2568531\n",
      "iteration: 500 log likelihood of observed labels: -20072.1632172\n"
     ]
    }
   ],
   "source": [
    "# run with L2 = 10\n",
    "coefficients_10_penalty = logistic_regression_with_L2(feature_matrix_train, sentiment_train,\n",
    "                                                      initial_coefficients=np.zeros(194),\n",
    "                                                      step_size=5e-6, l2_penalty=10, max_iter=501)"
   ]
  },
  {
   "cell_type": "code",
   "execution_count": 22,
   "metadata": {
    "collapsed": false
   },
   "outputs": [
    {
     "name": "stdout",
     "output_type": "stream",
     "text": [
      "iteration: 0 log likelihood of observed labels: -29179.4838512\n",
      "iteration: 1 log likelihood of observed labels: -29004.2517746\n",
      "iteration: 2 log likelihood of observed labels: -28835.9738219\n",
      "iteration: 3 log likelihood of observed labels: -28674.0941008\n",
      "iteration: 4 log likelihood of observed labels: -28518.1711293\n",
      "iteration: 5 log likelihood of observed labels: -28367.8377465\n",
      "iteration: 6 log likelihood of observed labels: -28222.7770894\n",
      "iteration: 7 log likelihood of observed labels: -28082.7079939\n",
      "iteration: 8 log likelihood of observed labels: -27947.3759537\n",
      "iteration: 9 log likelihood of observed labels: -27816.5473862\n",
      "iteration: 10 log likelihood of observed labels: -27690.0058885\n",
      "iteration: 11 log likelihood of observed labels: -27567.5497013\n",
      "iteration: 12 log likelihood of observed labels: -27448.9899133\n",
      "iteration: 13 log likelihood of observed labels: -27334.1491274\n",
      "iteration: 14 log likelihood of observed labels: -27222.8604186\n",
      "iteration: 15 log likelihood of observed labels: -27114.9664823\n",
      "iteration: 20 log likelihood of observed labels: -26621.502013\n",
      "iteration: 30 log likelihood of observed labels: -25819.7280395\n",
      "iteration: 40 log likelihood of observed labels: -25197.340355\n",
      "iteration: 50 log likelihood of observed labels: -24701.036982\n",
      "iteration: 60 log likelihood of observed labels: -24296.6637858\n",
      "iteration: 70 log likelihood of observed labels: -23961.3884232\n",
      "iteration: 80 log likelihood of observed labels: -23679.3808885\n",
      "iteration: 90 log likelihood of observed labels: -23439.3182427\n",
      "iteration: 100 log likelihood of observed labels: -23232.8819202\n",
      "iteration: 200 log likelihood of observed labels: -22133.5072653\n",
      "iteration: 300 log likelihood of observed labels: -21730.0395749\n",
      "iteration: 400 log likelihood of observed labels: -21545.8757214\n",
      "iteration: 500 log likelihood of observed labels: -21451.9555139\n"
     ]
    }
   ],
   "source": [
    "# run with L2 = 1e2\n",
    "coefficients_1e2_penalty = logistic_regression_with_L2(feature_matrix_train, sentiment_train,\n",
    "                                                       initial_coefficients=np.zeros(194),\n",
    "                                                       step_size=5e-6, l2_penalty=1e2, max_iter=501)"
   ]
  },
  {
   "cell_type": "code",
   "execution_count": 23,
   "metadata": {
    "collapsed": false
   },
   "outputs": [
    {
     "name": "stdout",
     "output_type": "stream",
     "text": [
      "iteration: 0 log likelihood of observed labels: -29180.3160647\n",
      "iteration: 1 log likelihood of observed labels: -29009.0717611\n",
      "iteration: 2 log likelihood of observed labels: -28847.6237891\n",
      "iteration: 3 log likelihood of observed labels: -28695.144394\n",
      "iteration: 4 log likelihood of observed labels: -28550.9506074\n",
      "iteration: 5 log likelihood of observed labels: -28414.4577113\n",
      "iteration: 6 log likelihood of observed labels: -28285.1512438\n",
      "iteration: 7 log likelihood of observed labels: -28162.5697604\n",
      "iteration: 8 log likelihood of observed labels: -28046.2938774\n",
      "iteration: 9 log likelihood of observed labels: -27935.939029\n",
      "iteration: 10 log likelihood of observed labels: -27831.150455\n",
      "iteration: 11 log likelihood of observed labels: -27731.5995526\n",
      "iteration: 12 log likelihood of observed labels: -27636.9810822\n",
      "iteration: 13 log likelihood of observed labels: -27547.0109267\n",
      "iteration: 14 log likelihood of observed labels: -27461.4242229\n",
      "iteration: 15 log likelihood of observed labels: -27379.9737563\n",
      "iteration: 20 log likelihood of observed labels: -27027.1820832\n",
      "iteration: 30 log likelihood of observed labels: -26527.2273727\n",
      "iteration: 40 log likelihood of observed labels: -26206.5904877\n",
      "iteration: 50 log likelihood of observed labels: -25995.9690315\n",
      "iteration: 60 log likelihood of observed labels: -25854.9571028\n",
      "iteration: 70 log likelihood of observed labels: -25759.0810995\n",
      "iteration: 80 log likelihood of observed labels: -25693.0568801\n",
      "iteration: 90 log likelihood of observed labels: -25647.0992935\n",
      "iteration: 100 log likelihood of observed labels: -25614.8146871\n",
      "iteration: 200 log likelihood of observed labels: -25536.2099892\n",
      "iteration: 300 log likelihood of observed labels: -25532.5769122\n",
      "iteration: 400 log likelihood of observed labels: -25532.3554376\n",
      "iteration: 500 log likelihood of observed labels: -25532.3397005\n"
     ]
    }
   ],
   "source": [
    "# run with L2 = 1e3\n",
    "coefficients_1e3_penalty = logistic_regression_with_L2(feature_matrix_train, sentiment_train,\n",
    "                                                       initial_coefficients=np.zeros(194),\n",
    "                                                       step_size=5e-6, l2_penalty=1e3, max_iter=501)"
   ]
  },
  {
   "cell_type": "code",
   "execution_count": 24,
   "metadata": {
    "collapsed": false
   },
   "outputs": [
    {
     "name": "stdout",
     "output_type": "stream",
     "text": [
      "iteration: 0 log likelihood of observed labels: -29271.8595512\n",
      "iteration: 1 log likelihood of observed labels: -29271.7100659\n",
      "iteration: 2 log likelihood of observed labels: -29271.6573883\n",
      "iteration: 3 log likelihood of observed labels: -29271.6118992\n",
      "iteration: 4 log likelihood of observed labels: -29271.5707997\n",
      "iteration: 5 log likelihood of observed labels: -29271.533585\n",
      "iteration: 6 log likelihood of observed labels: -29271.4998844\n",
      "iteration: 7 log likelihood of observed labels: -29271.4693658\n",
      "iteration: 8 log likelihood of observed labels: -29271.4417289\n",
      "iteration: 9 log likelihood of observed labels: -29271.4167015\n",
      "iteration: 10 log likelihood of observed labels: -29271.3940372\n",
      "iteration: 11 log likelihood of observed labels: -29271.3735129\n",
      "iteration: 12 log likelihood of observed labels: -29271.3549266\n",
      "iteration: 13 log likelihood of observed labels: -29271.3380952\n",
      "iteration: 14 log likelihood of observed labels: -29271.3228531\n",
      "iteration: 15 log likelihood of observed labels: -29271.3090501\n",
      "iteration: 20 log likelihood of observed labels: -29271.2572915\n",
      "iteration: 30 log likelihood of observed labels: -29271.206572\n",
      "iteration: 40 log likelihood of observed labels: -29271.18776\n",
      "iteration: 50 log likelihood of observed labels: -29271.1807825\n",
      "iteration: 60 log likelihood of observed labels: -29271.1781945\n",
      "iteration: 70 log likelihood of observed labels: -29271.1772346\n",
      "iteration: 80 log likelihood of observed labels: -29271.1768785\n",
      "iteration: 90 log likelihood of observed labels: -29271.1767465\n",
      "iteration: 100 log likelihood of observed labels: -29271.1766975\n",
      "iteration: 200 log likelihood of observed labels: -29271.1766686\n",
      "iteration: 300 log likelihood of observed labels: -29271.1766686\n",
      "iteration: 400 log likelihood of observed labels: -29271.1766686\n",
      "iteration: 500 log likelihood of observed labels: -29271.1766686\n"
     ]
    }
   ],
   "source": [
    "# run with L2 = 1e5\n",
    "coefficients_1e5_penalty = logistic_regression_with_L2(feature_matrix_train, sentiment_train,\n",
    "                                                       initial_coefficients=np.zeros(194),\n",
    "                                                       step_size=5e-6, l2_penalty=1e5, max_iter=501)"
   ]
  },
  {
   "cell_type": "markdown",
   "metadata": {},
   "source": [
    "## Compare coefficients\n",
    "\n",
    "We now compare the **coefficients** for each of the models that were trained above. We will create a table of features and learned coefficients associated with each of the different L2 penalty values.\n",
    "\n",
    "Create a DataFrame for this table. First column contains the list of important words (+ \"intercept\"). Then other columns contains coefficients values trained for different values of L2."
   ]
  },
  {
   "cell_type": "code",
   "execution_count": 25,
   "metadata": {
    "collapsed": true
   },
   "outputs": [],
   "source": [
    "coefs_words = important_words.copy()\n",
    "coefs_words.insert(0,\"intercept\")"
   ]
  },
  {
   "cell_type": "code",
   "execution_count": 26,
   "metadata": {
    "collapsed": false
   },
   "outputs": [],
   "source": [
    "table = pd.DataFrame(coefs_words,columns=[\"important_words\"])"
   ]
  },
  {
   "cell_type": "code",
   "execution_count": 27,
   "metadata": {
    "collapsed": false
   },
   "outputs": [],
   "source": [
    "table = table.assign(L2_0=coefficients_0_penalty)\n",
    "table = table.assign(L2_4=coefficients_4_penalty)\n",
    "table = table.assign(L2_4=coefficients_4_penalty)\n",
    "table = table.assign(L2_10=coefficients_10_penalty)\n",
    "table = table.assign(L2_1e2=coefficients_1e2_penalty)\n",
    "table = table.assign(L2_1e3=coefficients_1e3_penalty)\n",
    "table = table.assign(L2_1e5=coefficients_1e5_penalty)"
   ]
  },
  {
   "cell_type": "code",
   "execution_count": 28,
   "metadata": {
    "collapsed": false
   },
   "outputs": [
    {
     "data": {
      "text/html": [
       "<div>\n",
       "<table border=\"1\" class=\"dataframe\">\n",
       "  <thead>\n",
       "    <tr style=\"text-align: right;\">\n",
       "      <th></th>\n",
       "      <th>important_words</th>\n",
       "      <th>L2_0</th>\n",
       "      <th>L2_4</th>\n",
       "      <th>L2_10</th>\n",
       "      <th>L2_1e2</th>\n",
       "      <th>L2_1e3</th>\n",
       "      <th>L2_1e5</th>\n",
       "    </tr>\n",
       "  </thead>\n",
       "  <tbody>\n",
       "    <tr>\n",
       "      <th>0</th>\n",
       "      <td>intercept</td>\n",
       "      <td>-0.063742</td>\n",
       "      <td>-0.063143</td>\n",
       "      <td>-0.062256</td>\n",
       "      <td>-0.050438</td>\n",
       "      <td>0.000054</td>\n",
       "      <td>0.011362</td>\n",
       "    </tr>\n",
       "    <tr>\n",
       "      <th>1</th>\n",
       "      <td>baby</td>\n",
       "      <td>0.074073</td>\n",
       "      <td>0.073994</td>\n",
       "      <td>0.073877</td>\n",
       "      <td>0.072360</td>\n",
       "      <td>0.059752</td>\n",
       "      <td>0.001784</td>\n",
       "    </tr>\n",
       "    <tr>\n",
       "      <th>2</th>\n",
       "      <td>one</td>\n",
       "      <td>0.012753</td>\n",
       "      <td>0.012495</td>\n",
       "      <td>0.012115</td>\n",
       "      <td>0.007247</td>\n",
       "      <td>-0.008761</td>\n",
       "      <td>-0.001827</td>\n",
       "    </tr>\n",
       "    <tr>\n",
       "      <th>3</th>\n",
       "      <td>great</td>\n",
       "      <td>0.801625</td>\n",
       "      <td>0.796897</td>\n",
       "      <td>0.789935</td>\n",
       "      <td>0.701425</td>\n",
       "      <td>0.376012</td>\n",
       "      <td>0.008950</td>\n",
       "    </tr>\n",
       "    <tr>\n",
       "      <th>4</th>\n",
       "      <td>love</td>\n",
       "      <td>1.058554</td>\n",
       "      <td>1.050856</td>\n",
       "      <td>1.039529</td>\n",
       "      <td>0.896644</td>\n",
       "      <td>0.418354</td>\n",
       "      <td>0.009042</td>\n",
       "    </tr>\n",
       "  </tbody>\n",
       "</table>\n",
       "</div>"
      ],
      "text/plain": [
       "  important_words      L2_0      L2_4     L2_10    L2_1e2    L2_1e3    L2_1e5\n",
       "0       intercept -0.063742 -0.063143 -0.062256 -0.050438  0.000054  0.011362\n",
       "1            baby  0.074073  0.073994  0.073877  0.072360  0.059752  0.001784\n",
       "2             one  0.012753  0.012495  0.012115  0.007247 -0.008761 -0.001827\n",
       "3           great  0.801625  0.796897  0.789935  0.701425  0.376012  0.008950\n",
       "4            love  1.058554  1.050856  1.039529  0.896644  0.418354  0.009042"
      ]
     },
     "execution_count": 28,
     "metadata": {},
     "output_type": "execute_result"
    }
   ],
   "source": [
    "table.head()"
   ]
  },
  {
   "cell_type": "markdown",
   "metadata": {},
   "source": [
    "Using **the coefficients trained with L2 penalty 0**, find the 5 most positive words (with largest positive coefficients). Save them to **positive_words**. Similarly, find the 5 most negative words (with largest negative coefficients) and save them to **negative_words**.\n",
    "\n",
    "**Quiz Question**. Which of the following is **not** listed in either **positive_words** or **negative_words**?"
   ]
  },
  {
   "cell_type": "code",
   "execution_count": 29,
   "metadata": {
    "collapsed": false
   },
   "outputs": [],
   "source": [
    "positive_words = table.sort_values([\"L2_0\"],ascending=False).iloc[0:5]"
   ]
  },
  {
   "cell_type": "code",
   "execution_count": 30,
   "metadata": {
    "collapsed": false
   },
   "outputs": [
    {
     "data": {
      "text/html": [
       "<div>\n",
       "<table border=\"1\" class=\"dataframe\">\n",
       "  <thead>\n",
       "    <tr style=\"text-align: right;\">\n",
       "      <th></th>\n",
       "      <th>important_words</th>\n",
       "      <th>L2_0</th>\n",
       "      <th>L2_4</th>\n",
       "      <th>L2_10</th>\n",
       "      <th>L2_1e2</th>\n",
       "      <th>L2_1e3</th>\n",
       "      <th>L2_1e5</th>\n",
       "    </tr>\n",
       "  </thead>\n",
       "  <tbody>\n",
       "    <tr>\n",
       "      <th>4</th>\n",
       "      <td>love</td>\n",
       "      <td>1.058554</td>\n",
       "      <td>1.050856</td>\n",
       "      <td>1.039529</td>\n",
       "      <td>0.896644</td>\n",
       "      <td>0.418354</td>\n",
       "      <td>0.009042</td>\n",
       "    </tr>\n",
       "    <tr>\n",
       "      <th>23</th>\n",
       "      <td>loves</td>\n",
       "      <td>1.052484</td>\n",
       "      <td>1.043903</td>\n",
       "      <td>1.031265</td>\n",
       "      <td>0.870794</td>\n",
       "      <td>0.345870</td>\n",
       "      <td>0.006150</td>\n",
       "    </tr>\n",
       "    <tr>\n",
       "      <th>8</th>\n",
       "      <td>easy</td>\n",
       "      <td>0.984559</td>\n",
       "      <td>0.977600</td>\n",
       "      <td>0.967362</td>\n",
       "      <td>0.838245</td>\n",
       "      <td>0.401904</td>\n",
       "      <td>0.008808</td>\n",
       "    </tr>\n",
       "    <tr>\n",
       "      <th>34</th>\n",
       "      <td>perfect</td>\n",
       "      <td>0.835693</td>\n",
       "      <td>0.828555</td>\n",
       "      <td>0.818038</td>\n",
       "      <td>0.684143</td>\n",
       "      <td>0.250614</td>\n",
       "      <td>0.003989</td>\n",
       "    </tr>\n",
       "    <tr>\n",
       "      <th>3</th>\n",
       "      <td>great</td>\n",
       "      <td>0.801625</td>\n",
       "      <td>0.796897</td>\n",
       "      <td>0.789935</td>\n",
       "      <td>0.701425</td>\n",
       "      <td>0.376012</td>\n",
       "      <td>0.008950</td>\n",
       "    </tr>\n",
       "  </tbody>\n",
       "</table>\n",
       "</div>"
      ],
      "text/plain": [
       "   important_words      L2_0      L2_4     L2_10    L2_1e2    L2_1e3    L2_1e5\n",
       "4             love  1.058554  1.050856  1.039529  0.896644  0.418354  0.009042\n",
       "23           loves  1.052484  1.043903  1.031265  0.870794  0.345870  0.006150\n",
       "8             easy  0.984559  0.977600  0.967362  0.838245  0.401904  0.008808\n",
       "34         perfect  0.835693  0.828555  0.818038  0.684143  0.250614  0.003989\n",
       "3            great  0.801625  0.796897  0.789935  0.701425  0.376012  0.008950"
      ]
     },
     "execution_count": 30,
     "metadata": {},
     "output_type": "execute_result"
    }
   ],
   "source": [
    "positive_words"
   ]
  },
  {
   "cell_type": "code",
   "execution_count": 31,
   "metadata": {
    "collapsed": true
   },
   "outputs": [],
   "source": [
    "negative_words = table.sort_values([\"L2_0\"],ascending=True).iloc[0:5]"
   ]
  },
  {
   "cell_type": "code",
   "execution_count": 32,
   "metadata": {
    "collapsed": false
   },
   "outputs": [
    {
     "data": {
      "text/html": [
       "<div>\n",
       "<table border=\"1\" class=\"dataframe\">\n",
       "  <thead>\n",
       "    <tr style=\"text-align: right;\">\n",
       "      <th></th>\n",
       "      <th>important_words</th>\n",
       "      <th>L2_0</th>\n",
       "      <th>L2_4</th>\n",
       "      <th>L2_10</th>\n",
       "      <th>L2_1e2</th>\n",
       "      <th>L2_1e3</th>\n",
       "      <th>L2_1e5</th>\n",
       "    </tr>\n",
       "  </thead>\n",
       "  <tbody>\n",
       "    <tr>\n",
       "      <th>106</th>\n",
       "      <td>disappointed</td>\n",
       "      <td>-0.955437</td>\n",
       "      <td>-0.946980</td>\n",
       "      <td>-0.934518</td>\n",
       "      <td>-0.775625</td>\n",
       "      <td>-0.266095</td>\n",
       "      <td>-0.004013</td>\n",
       "    </tr>\n",
       "    <tr>\n",
       "      <th>97</th>\n",
       "      <td>money</td>\n",
       "      <td>-0.768793</td>\n",
       "      <td>-0.762734</td>\n",
       "      <td>-0.753818</td>\n",
       "      <td>-0.641406</td>\n",
       "      <td>-0.275883</td>\n",
       "      <td>-0.005487</td>\n",
       "    </tr>\n",
       "    <tr>\n",
       "      <th>114</th>\n",
       "      <td>return</td>\n",
       "      <td>-0.742085</td>\n",
       "      <td>-0.735502</td>\n",
       "      <td>-0.725807</td>\n",
       "      <td>-0.602646</td>\n",
       "      <td>-0.215199</td>\n",
       "      <td>-0.003730</td>\n",
       "    </tr>\n",
       "    <tr>\n",
       "      <th>113</th>\n",
       "      <td>waste</td>\n",
       "      <td>-0.617809</td>\n",
       "      <td>-0.612475</td>\n",
       "      <td>-0.604620</td>\n",
       "      <td>-0.505189</td>\n",
       "      <td>-0.190631</td>\n",
       "      <td>-0.003345</td>\n",
       "    </tr>\n",
       "    <tr>\n",
       "      <th>169</th>\n",
       "      <td>returned</td>\n",
       "      <td>-0.572707</td>\n",
       "      <td>-0.567518</td>\n",
       "      <td>-0.559870</td>\n",
       "      <td>-0.462056</td>\n",
       "      <td>-0.150021</td>\n",
       "      <td>-0.002225</td>\n",
       "    </tr>\n",
       "  </tbody>\n",
       "</table>\n",
       "</div>"
      ],
      "text/plain": [
       "    important_words      L2_0      L2_4     L2_10    L2_1e2    L2_1e3  \\\n",
       "106    disappointed -0.955437 -0.946980 -0.934518 -0.775625 -0.266095   \n",
       "97            money -0.768793 -0.762734 -0.753818 -0.641406 -0.275883   \n",
       "114          return -0.742085 -0.735502 -0.725807 -0.602646 -0.215199   \n",
       "113           waste -0.617809 -0.612475 -0.604620 -0.505189 -0.190631   \n",
       "169        returned -0.572707 -0.567518 -0.559870 -0.462056 -0.150021   \n",
       "\n",
       "       L2_1e5  \n",
       "106 -0.004013  \n",
       "97  -0.005487  \n",
       "114 -0.003730  \n",
       "113 -0.003345  \n",
       "169 -0.002225  "
      ]
     },
     "execution_count": 32,
     "metadata": {},
     "output_type": "execute_result"
    }
   ],
   "source": [
    "negative_words"
   ]
  },
  {
   "cell_type": "markdown",
   "metadata": {},
   "source": [
    "Let us observe the effect of increasing L2 penalty on the 10 words just selected. We provide you with a utility function to  plot the coefficient path."
   ]
  },
  {
   "cell_type": "code",
   "execution_count": 33,
   "metadata": {
    "collapsed": false
   },
   "outputs": [],
   "source": [
    "plt.rcParams['figure.figsize'] = 10, 6\n",
    "\n",
    "def make_coefficient_plot(positive_words, negative_words, l2_penalty_list):\n",
    "    cmap_positive = plt.get_cmap('Reds')\n",
    "    cmap_negative = plt.get_cmap('Blues')\n",
    "    \n",
    "    xx = l2_penalty_list\n",
    "    plt.plot(xx, [0.]*len(xx), '--', lw=1, color='k')\n",
    "    \n",
    "    table_positive_words = positive_words.drop([\"important_words\"], axis=1, inplace=False)\n",
    "    table_negative_words = negative_words.drop([\"important_words\"], axis=1, inplace=False)\n",
    "    \n",
    "    label_positive_words = positive_words[\"important_words\"]\n",
    "    label_negative_words = negative_words[\"important_words\"]\n",
    "    \n",
    "    for i in range(len(table_positive_words)):\n",
    "        color = cmap_positive(0.8*((i+1)/(len(table_positive_words)*1.2)+0.15))\n",
    "        plt.plot(xx, table_positive_words[i:i+1].as_matrix().flatten(),\n",
    "                 '-', label=label_positive_words.iloc[i], linewidth=4.0, color=color)\n",
    "        \n",
    "    for i in range(len(table_negative_words)):\n",
    "        color = cmap_negative(0.8*((i+1)/(len(table_negative_words)*1.2)+0.15))\n",
    "        plt.plot(xx, table_negative_words[i:i+1].as_matrix().flatten(),\n",
    "                 '-', label=label_negative_words.iloc[i], linewidth=4.0, color=color)\n",
    "        \n",
    "    plt.legend(loc='best', ncol=3, prop={'size':16}, columnspacing=0.5)\n",
    "    plt.axis([1, 1e5, -1, 2])\n",
    "    plt.title('Coefficient path')\n",
    "    plt.xlabel('L2 penalty ($\\lambda$)')\n",
    "    plt.ylabel('Coefficient value')\n",
    "    plt.xscale('log')\n",
    "    plt.rcParams.update({'font.size': 18})\n",
    "    plt.tight_layout()"
   ]
  },
  {
   "cell_type": "markdown",
   "metadata": {},
   "source": [
    "Run the following cell to generate the plot. Use the plot to answer the following quiz question."
   ]
  },
  {
   "cell_type": "code",
   "execution_count": 34,
   "metadata": {
    "collapsed": false
   },
   "outputs": [
    {
     "data": {
      "image/png": "[encoded data removed]",
      "text/plain": [
       "<matplotlib.figure.Figure at 0x1ae526d7898>"
      ]
     },
     "metadata": {},
     "output_type": "display_data"
    }
   ],
   "source": [
    "make_coefficient_plot(positive_words, negative_words, l2_penalty_list=[0, 4, 10, 1e2, 1e3, 1e5])"
   ]
  },
  {
   "cell_type": "markdown",
   "metadata": {},
   "source": [
    "**Quiz Question**: (True/False) All coefficients consistently get smaller in size as the L2 penalty is increased.\n",
    "\n",
    "**Quiz Question**: (True/False) The relative order of coefficients is preserved as the L2 penalty is increased. (For example, if the coefficient for 'cat' was more positive than that for 'dog', this remains true as the L2 penalty increases.)"
   ]
  },
  {
   "cell_type": "markdown",
   "metadata": {},
   "source": [
    "## Measuring accuracy\n",
    "\n",
    "Now, let us compute the accuracy of the classifier model. Recall that the accuracy is given by\n",
    "\n",
    "$$\n",
    "\\mbox{accuracy} = \\frac{\\mbox{# correctly classified data points}}{\\mbox{# total data points}}\n",
    "$$\n",
    "\n",
    "\n",
    "Recall from lecture that that the class prediction is calculated using\n",
    "$$\n",
    "\\hat{y}_i = \n",
    "\\left\\{\n",
    "\\begin{array}{ll}\n",
    "      +1 & h(\\mathbf{x}_i)^T\\mathbf{w} > 0 \\\\\n",
    "      -1 & h(\\mathbf{x}_i)^T\\mathbf{w} \\leq 0 \\\\\n",
    "\\end{array} \n",
    "\\right.\n",
    "$$\n",
    "\n",
    "**Note**: It is important to know that the model prediction code doesn't change even with the addition of an L2 penalty. The only thing that changes is the estimated coefficients used in this prediction.\n",
    "\n",
    "Based on the above, we will use the same code that was used in Module 3 assignment."
   ]
  },
  {
   "cell_type": "code",
   "execution_count": 35,
   "metadata": {
    "collapsed": true
   },
   "outputs": [],
   "source": [
    "def get_classification_accuracy(feature_matrix, sentiment, coefficients):\n",
    "    scores = np.dot(feature_matrix, coefficients.reshape(-1,1))\n",
    "    \n",
    "    predictions = scores.copy()\n",
    "    predictions[predictions>0] = 1\n",
    "    predictions[predictions<=0] = -1\n",
    "    \n",
    "    num_correct = (predictions == sentiment).sum()\n",
    "    accuracy = num_correct / len(feature_matrix)\n",
    "    return accuracy"
   ]
  },
  {
   "cell_type": "markdown",
   "metadata": {},
   "source": [
    "Below, we compare the accuracy on the **training data** and **validation data** for all the models that were trained in this assignment.  We first calculate the accuracy values and then build a simple report summarizing the performance for the various models."
   ]
  },
  {
   "cell_type": "code",
   "execution_count": 36,
   "metadata": {
    "collapsed": false
   },
   "outputs": [],
   "source": [
    "train_accuracy = {}\n",
    "train_accuracy[0]   = get_classification_accuracy(feature_matrix_train, sentiment_train, coefficients_0_penalty)\n",
    "train_accuracy[4]   = get_classification_accuracy(feature_matrix_train, sentiment_train, coefficients_4_penalty)\n",
    "train_accuracy[10]  = get_classification_accuracy(feature_matrix_train, sentiment_train, coefficients_10_penalty)\n",
    "train_accuracy[1e2] = get_classification_accuracy(feature_matrix_train, sentiment_train, coefficients_1e2_penalty)\n",
    "train_accuracy[1e3] = get_classification_accuracy(feature_matrix_train, sentiment_train, coefficients_1e3_penalty)\n",
    "train_accuracy[1e5] = get_classification_accuracy(feature_matrix_train, sentiment_train, coefficients_1e5_penalty)\n",
    "\n",
    "validation_accuracy = {}\n",
    "validation_accuracy[0]   = get_classification_accuracy(feature_matrix_valid, sentiment_valid, coefficients_0_penalty)\n",
    "validation_accuracy[4]   = get_classification_accuracy(feature_matrix_valid, sentiment_valid, coefficients_4_penalty)\n",
    "validation_accuracy[10]  = get_classification_accuracy(feature_matrix_valid, sentiment_valid, coefficients_10_penalty)\n",
    "validation_accuracy[1e2] = get_classification_accuracy(feature_matrix_valid, sentiment_valid, coefficients_1e2_penalty)\n",
    "validation_accuracy[1e3] = get_classification_accuracy(feature_matrix_valid, sentiment_valid, coefficients_1e3_penalty)\n",
    "validation_accuracy[1e5] = get_classification_accuracy(feature_matrix_valid, sentiment_valid, coefficients_1e5_penalty)"
   ]
  },
  {
   "cell_type": "code",
   "execution_count": 37,
   "metadata": {
    "collapsed": false
   },
   "outputs": [
    {
     "name": "stdout",
     "output_type": "stream",
     "text": [
      "L2 penalty = 0\n",
      "train accuracy = 0.785156157787 validation_accuracy = 0.78143964149\n",
      "--------------------------------------------------------------------------------\n",
      "L2 penalty = 4\n",
      "train accuracy = 0.785108944548 validation_accuracy = 0.781533003454\n",
      "--------------------------------------------------------------------------------\n",
      "L2 penalty = 10\n",
      "train accuracy = 0.784990911452 validation_accuracy = 0.781719727383\n",
      "--------------------------------------------------------------------------------\n",
      "L2 penalty = 100.0\n",
      "train accuracy = 0.783975826822 validation_accuracy = 0.781066193633\n",
      "--------------------------------------------------------------------------------\n",
      "L2 penalty = 1000.0\n",
      "train accuracy = 0.775855149784 validation_accuracy = 0.771356549342\n",
      "--------------------------------------------------------------------------------\n",
      "L2 penalty = 100000.0\n",
      "train accuracy = 0.680366374731 validation_accuracy = 0.667818130893\n",
      "--------------------------------------------------------------------------------\n"
     ]
    }
   ],
   "source": [
    "# Build a simple report\n",
    "for key in sorted(validation_accuracy.keys()):\n",
    "    print(\"L2 penalty =\",key)\n",
    "    print(\"train accuracy =\",train_accuracy[key],\"validation_accuracy =\",validation_accuracy[key])\n",
    "    print(\"--------------------------------------------------------------------------------\")"
   ]
  },
  {
   "cell_type": "markdown",
   "metadata": {},
   "source": [
    "* **Quiz question**: Which model (L2 = 0, 4, 10, 100, 1e3, 1e5) has the **highest** accuracy on the **training** data?\n",
    "* **Quiz question**: Which model (L2 = 0, 4, 10, 100, 1e3, 1e5) has the **highest** accuracy on the **validation** data?\n",
    "* **Quiz question**: Does the **highest** accuracy on the **training** data imply that the model is the best one?"
   ]
  },
  {
   "cell_type": "code",
   "execution_count": null,
   "metadata": {
    "collapsed": true
   },
   "outputs": [],
   "source": []
  }
 ],
 "metadata": {
  "kernelspec": {
   "display_name": "Python [Root]",
   "language": "python",
   "name": "Python [Root]"
  },
  "language_info": {
   "codemirror_mode": {
    "name": "ipython",
    "version": 3
   },
   "file_extension": ".py",
   "mimetype": "text/x-python",
   "name": "python",
   "nbconvert_exporter": "python",
   "pygments_lexer": "ipython3",
   "version": "3.5.2"
  }
 },
 "nbformat": 4,
 "nbformat_minor": 0
}
